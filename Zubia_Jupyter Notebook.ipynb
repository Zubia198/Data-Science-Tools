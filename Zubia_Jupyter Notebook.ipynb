{
 "cells": [
  {
   "cell_type": "markdown",
   "metadata": {
    "collapsed": true
   },
   "source": [
    "#  Data Science Language and Tools"
   ]
  },
  {
   "cell_type": "markdown",
   "metadata": {},
   "source": [
    "**Data science** is a field of study that involves the use of scientific methods, processes, algorithms, and systems to extract knowledge and insights from structured and unstructured data. It combines various disciplines such as statistics, mathematics, computer science, and domain-specific knowledge to analyze and interpret data in order to derive meaningful insights.The main objective of data science is to transform raw data into meaningful insights that can be used to drive informed decisions.\n",
    "\n",
    "There are a number of data science tools available for performing various tasks related to data acquisition, storage, analysis, visualization, and deployment.here are several programming languages that are commonly used in data science, depending on the task and the preferences of the data scientist"
   ]
  },
  {
   "cell_type": "markdown",
   "metadata": {},
   "source": [
    "**Data Science Languages**\n",
    "\n",
    "There are several Programming languages used in data science. The choice of language depends on the specific needs of the project and the preferences of the data scientist or analyst\n",
    "Some of the Languages are listed below.\n",
    "1. Python\n",
    "1. R\n",
    "1. Java\n",
    "1. Julia\n",
    "1. Ruby\n",
    "1. SQL"
   ]
  },
  {
   "cell_type": "markdown",
   "metadata": {},
   "source": [
    "**Data Science Libraries**\n",
    "\n",
    "Here are some of most popular Data Science Libraries.Each of them has its own strengths and weaknesses, and the choice of library depends on the specific needs of the project.\n",
    "* Numpy\n",
    "* SciPy\n",
    "* Matplotlib\n",
    "* Tenser Flow\n",
    "* Scikit-Learn Library"
   ]
  },
  {
   "cell_type": "markdown",
   "metadata": {},
   "source": [
    "|  Tools  |                   Description                         | \n",
    "| :-------| :-----------------------------------------------------|\n",
    "| Python  | A popular programming language for Data Science, with a wide range of libraries and frameworks for machine learning, data analysis, and visualization |\n",
    "|    R    | A programming language designed for statistical computing and graphics. It has a large number of libraries for statistical analysis, visualization, and data manipulation. |\n",
    "|   SQL   | A language used to manage and manipulate data stored in relational databases. It is widely used for data management and analysis. |\n",
    "| Spark Apache | An open-source big data processing framework that provides an interface for programming entire clusters with implicit data parallelism and fault tolerance. |"
   ]
  },
  {
   "cell_type": "markdown",
   "metadata": {},
   "source": [
    "**Arithmetic Expression**\n",
    "\n",
    "An arithmetic expression is a mathematical expression that consists of numbers, arithmetic operators, and parentheses. The arithmetic operators can be addition (+), subtraction (-), multiplication (*) and division (/).\n",
    "\n",
    "_Example:_\n",
    "\n",
    "*3 + 4*\n",
    "\n",
    "is an arithmetic expression that represents the sum of 3 and 4.And the result of this expression will be *7*.\n"
   ]
  },
  {
   "cell_type": "code",
   "execution_count": 3,
   "metadata": {},
   "outputs": [
    {
     "name": "stdout",
     "output_type": "stream",
     "text": [
      "Sum is 40\n",
      "Product is 375\n"
     ]
    }
   ],
   "source": [
    "# Defining variables\n",
    "a= 15\n",
    "b= 25\n",
    "\n",
    "#Performing operations\n",
    "sum=a+b\n",
    "prod=a*b\n",
    "\n",
    "#Printing result\n",
    "print (\"Sum is\" , sum)\n",
    "print (\"Product is\" ,prod )"
   ]
  },
  {
   "cell_type": "code",
   "execution_count": 4,
   "metadata": {},
   "outputs": [
    {
     "name": "stdout",
     "output_type": "stream",
     "text": [
      "190 minutes is equal to 3.1666666666666665 hours\n"
     ]
    }
   ],
   "source": [
    "# Prompt the user to enter a number of minutes\n",
    "minutes = 190\n",
    "\n",
    "# Convert minutes to hours\n",
    "hours = minutes / 60\n",
    "\n",
    "# Print the result\n",
    "print(minutes, \"minutes is equal to\", hours, \"hours\")\n"
   ]
  },
  {
   "cell_type": "markdown",
   "metadata": {},
   "source": [
    "**Objectives**\n",
    "\n",
    "* Introduction to Data science \n",
    "* Get fimiliar with tools used in data science feild.\n",
    "* Data science languages \n",
    "* Saw Arithmatic expressions with example.\n",
    "* Conversion of Minutes to Hours"
   ]
  },
  {
   "cell_type": "markdown",
   "metadata": {},
   "source": [
    "**Author Name:** _**Zubia Idrees**_"
   ]
  }
 ],
 "metadata": {
  "kernelspec": {
   "display_name": "Python 3.10",
   "language": "python",
   "name": "python3"
  },
  "language_info": {
   "codemirror_mode": {
    "name": "ipython",
    "version": 3
   },
   "file_extension": ".py",
   "mimetype": "text/x-python",
   "name": "python",
   "nbconvert_exporter": "python",
   "pygments_lexer": "ipython3",
   "version": "3.10.9"
  }
 },
 "nbformat": 4,
 "nbformat_minor": 1
}
